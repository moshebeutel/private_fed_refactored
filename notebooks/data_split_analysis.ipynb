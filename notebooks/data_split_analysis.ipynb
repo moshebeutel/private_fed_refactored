{
 "cells": [
  {
   "cell_type": "code",
   "execution_count": 1,
   "id": "initial_id",
   "metadata": {
    "collapsed": true,
    "ExecuteTime": {
     "end_time": "2024-03-20T14:42:00.663428Z",
     "start_time": "2024-03-20T14:41:58.065254Z"
    }
   },
   "outputs": [],
   "source": [
    "from private_federated.data.random_data_split import gen_random_loaders, gen_data_split, gen_classes_per_node\n",
    "import torch\n",
    "import numpy as np\n",
    "from torchvision.datasets import CIFAR10\n",
    "from torchvision.transforms import transforms"
   ]
  },
  {
   "cell_type": "code",
   "outputs": [
    {
     "name": "stdout",
     "output_type": "stream",
     "text": [
      "Files already downloaded and verified\n"
     ]
    }
   ],
   "source": [
    "transform = transforms.Compose([transforms.ToTensor(), transforms.Normalize((0.4914, 0.4822, 0.4465), (0.2023, 0.1994, 0.2010))])\n",
    "dataset = CIFAR10(\n",
    "            root=f'/home/user1/datasets/CIFAR10',\n",
    "            train=True,\n",
    "            download=True,\n",
    "            transform=transform\n",
    "        )"
   ],
   "metadata": {
    "collapsed": false,
    "ExecuteTime": {
     "end_time": "2024-03-20T14:42:05.590690Z",
     "start_time": "2024-03-20T14:42:04.922615Z"
    }
   },
   "id": "e187584b3ddd5ff1",
   "execution_count": 2
  },
  {
   "cell_type": "code",
   "outputs": [],
   "source": [
    "partitions = gen_classes_per_node(dataset, 1000, 2)\n",
    "usr_subset_idx = gen_data_split(dataset, 1000, partitions)\n",
    "subsets = list(map(lambda x: torch.utils.data.Subset(dataset, x), usr_subset_idx))"
   ],
   "metadata": {
    "collapsed": false,
    "ExecuteTime": {
     "end_time": "2024-03-20T14:42:08.009275Z",
     "start_time": "2024-03-20T14:42:07.952704Z"
    }
   },
   "id": "bccf73a84b7f990f",
   "execution_count": 3
  },
  {
   "cell_type": "code",
   "outputs": [],
   "source": [
    "udata_users = [[subsets[u].dataset[i] for i in subsets[u].indices] for u in range(1000)]\n",
    "udata_cls_users = [[pair[1] for pair in _udata] for _udata in udata_users]\n",
    "cls_users = [[np.unique(_udata_cls, return_counts=True)[0]] for _udata_cls in udata_cls_users]\n",
    "\n",
    "count_users = [[np.unique(_udata_cls, return_counts=True)[1]] for _udata_cls in udata_cls_users]\n",
    "cls_users, count_users"
   ],
   "metadata": {
    "collapsed": false
   },
   "id": "8d97dc2fad54fd57",
   "execution_count": null
  },
  {
   "cell_type": "code",
   "outputs": [
    {
     "data": {
      "text/plain": "(1000, 2)"
     },
     "execution_count": 5,
     "metadata": {},
     "output_type": "execute_result"
    }
   ],
   "source": [
    "np_count_users = np.array(count_users)\n",
    "cu = np.squeeze(np_count_users)\n",
    "cu.shape"
   ],
   "metadata": {
    "collapsed": false,
    "ExecuteTime": {
     "end_time": "2024-03-20T14:42:28.494695Z",
     "start_time": "2024-03-20T14:42:28.490139Z"
    }
   },
   "id": "f9382bb7f77bde8d",
   "execution_count": 5
  },
  {
   "cell_type": "code",
   "outputs": [
    {
     "data": {
      "text/plain": "(3.284, 2.2696572428452715)"
     },
     "execution_count": 6,
     "metadata": {},
     "output_type": "execute_result"
    }
   ],
   "source": [
    "counts_mean = np.mean(cu)\n",
    "count_mean_uses_axis = np.mean(cu, axis=0)\n",
    "count_mean_cls_axis = np.mean(cu, axis=1)\n",
    "samples_per_user_mean = np.sum(cu, axis=1).mean()\n",
    "samples_per_user_std = np.sum(cu, axis=1).std()\n",
    "\n",
    "diffs = np.abs(cu[:,0] - cu[:,1])\n",
    "diffs.mean(), diffs.std()"
   ],
   "metadata": {
    "collapsed": false,
    "ExecuteTime": {
     "end_time": "2024-03-20T14:42:43.503171Z",
     "start_time": "2024-03-20T14:42:43.498168Z"
    }
   },
   "id": "6d13b9a262e67d9c",
   "execution_count": 6
  }
 ],
 "metadata": {
  "kernelspec": {
   "display_name": "Python 3",
   "language": "python",
   "name": "python3"
  },
  "language_info": {
   "codemirror_mode": {
    "name": "ipython",
    "version": 2
   },
   "file_extension": ".py",
   "mimetype": "text/x-python",
   "name": "python",
   "nbconvert_exporter": "python",
   "pygments_lexer": "ipython2",
   "version": "2.7.6"
  }
 },
 "nbformat": 4,
 "nbformat_minor": 5
}
